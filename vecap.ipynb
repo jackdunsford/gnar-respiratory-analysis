{
 "cells": [
  {
   "cell_type": "code",
   "execution_count": 4,
   "metadata": {},
   "outputs": [],
   "source": [
    "import numpy as np\n",
    "import pandas as pd\n",
    "import matplotlib.pyplot as plt\n",
    "from collections import OrderedDict\n",
    "import scipy as sp\n",
    "from os.path import join as pjoin\n",
    "from scipy import signal\n",
    "import seaborn as sns\n",
    "import scipy as sp\n",
    "import os\n",
    "from matplotlib.backends.backend_pdf  import PdfPages\n",
    "import spirometry\n",
    "import gnar\n",
    "import settings"
   ]
  },
  {
   "cell_type": "code",
   "execution_count": 6,
   "metadata": {},
   "outputs": [],
   "source": [
    "settings = {\n",
    "    \"inputfolder\": r'/Users/jackdunsford/Library/CloudStorage/OneDrive-Personal/Thesis/01-220/V2 gnarpy',\n",
    "    #enter the name of the file and the breath number you wish to exclude from the IC volume drift correction\n",
    "    \"ignoreic\": [\n",
    "        [\"01-220_V2_IC220.txt\", [12]]\n",
    "    ],\n",
    "    #enter the name of the file and the breath number you wish to exclude from volume drift correction and averaging\n",
    "    \"ignorebreath\":[\n",
    "        [\"01-220_V2_IC220.txt\", [12]]\n",
    "    ],\n",
    "    \"saveiccorrection\": False, #saves a plot with the ic trend correction to check for incorrect EELV detection\n",
    "    \"saverawflowvolume\": False, #saves a plot of the raw flow and volume traces\n",
    "    \"saveflowvolumeloops\": False, #saves a plot with the FV loop and MEFV for each stage\n",
    "    \"saveoutput\": True, #saves an excel of the dataframe containing data for each stage of exercise\n",
    "    \"savemefv\": False, #saves a figure of the MEFV curve with all FVCs\n",
    "    \"savemefvdata\": False, #saves an excel with fvc, fev1, pef, slope ratio, and data for the MEFV curve\n",
    "    \"saveaveragedata\": False #saves an excel with the data of the average flow volume loop for each stage\n",
    "}"
   ]
  },
  {
   "cell_type": "code",
   "execution_count": 84,
   "metadata": {},
   "outputs": [
    {
     "name": "stdout",
     "output_type": "stream",
     "text": [
      "0.736558581536676\n",
      "81.4599157541855\n",
      "220.89892654641253\n"
     ]
    }
   ],
   "source": [
    "fvc_folder = r'/Users/jackdunsford/Library/CloudStorage/OneDrive-Personal/Thesis/01-102/01-102_V3/FVC'\n",
    "ic_input = r'/Users/jackdunsford/Library/CloudStorage/OneDrive-Personal/Thesis/01-102/01-102_V3/ic/l-01-102_V3_IC220W.txt'\n",
    "input_path = r'/Users/jackdunsford/Library/CloudStorage/OneDrive-Personal/Thesis/01-102/01-102_V3/breaths/l-01-102_V3_B220W.txt'\n",
    "\n",
    "mefv = spirometry.mefv_curve(fvc_folder, settings)\n",
    "def get_vecap(mefv, ic_input, input_path):\n",
    "    with PdfPages('figure.pdf') as pdf: \n",
    "        ic = gnar.get_ic(ic_input, pdf, settings)\n",
    "        avginsp_df, avgexp_df, te, ti, fb, vt, ve = gnar.averagebreaths(input_path, pdf, settings)\n",
    "        erv = (spirometry.get_fvc(mefv) - ic).round(2)\n",
    "        irv = (erv + vt).round(2)\n",
    "        avgexp_df.volume = avgexp_df.volume + erv\n",
    "\n",
    "    start = mefv.index[mefv['volume']==erv][0]\n",
    "    end = mefv.index[mefv['volume']==irv][0]\n",
    "    temax = 0\n",
    "    for i in range(start, end):\n",
    "        mef = mefv.flow[i]\n",
    "        temax+= 0.01/mef\n",
    "\n",
    "    ttot = te+ti\n",
    "    ttotmax = temax/(te/(te+ti))\n",
    "    fbmax = 60/ttotmax\n",
    "    vecap = vt * fbmax\n"
   ]
  },
  {
   "cell_type": "code",
   "execution_count": null,
   "metadata": {},
   "outputs": [],
   "source": []
  }
 ],
 "metadata": {
  "kernelspec": {
   "display_name": "Python 3.12.4 64-bit",
   "language": "python",
   "name": "python3"
  },
  "language_info": {
   "codemirror_mode": {
    "name": "ipython",
    "version": 3
   },
   "file_extension": ".py",
   "mimetype": "text/x-python",
   "name": "python",
   "nbconvert_exporter": "python",
   "pygments_lexer": "ipython3",
   "version": "3.12.4"
  },
  "orig_nbformat": 4,
  "vscode": {
   "interpreter": {
    "hash": "aee8b7b246df8f9039afb4144a1f6fd8d2ca17a180786b69acc140d282b71a49"
   }
  }
 },
 "nbformat": 4,
 "nbformat_minor": 2
}
